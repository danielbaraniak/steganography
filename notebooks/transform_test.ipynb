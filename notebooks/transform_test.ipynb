{
 "cells": [
  {
   "cell_type": "code",
   "execution_count": 1,
   "outputs": [],
   "source": [
    "import numpy as np\n",
    "import matplotlib.pyplot as plt\n",
    "\n",
    "import pywt\n",
    "import pywt.data\n",
    "import sys\n",
    "import cv2\n",
    "if '..' not in sys.path:\n",
    "    sys.path.append('..')\n",
    "\n",
    "from stego.transform import blocking, dwt"
   ],
   "metadata": {
    "collapsed": false
   }
  },
  {
   "cell_type": "code",
   "execution_count": 2,
   "outputs": [],
   "source": [
    "original = pywt.data.camera()"
   ],
   "metadata": {
    "collapsed": false
   }
  },
  {
   "cell_type": "code",
   "execution_count": 3,
   "outputs": [
    {
     "name": "stderr",
     "output_type": "stream",
     "text": [
      "Warning: Ignoring XDG_SESSION_TYPE=wayland on Gnome. Use QT_QPA_PLATFORM=wayland to run on Wayland anyway.\n"
     ]
    },
    {
     "name": "stdout",
     "output_type": "stream",
     "text": [
      "image=array([[200, 200, 200, ..., 189, 190, 190],\n",
      "       [200, 199, 199, ..., 190, 190, 190],\n",
      "       [199, 199, 199, ..., 190, 190, 190],\n",
      "       ...,\n",
      "       [ 25,  25,  27, ..., 139, 122, 147],\n",
      "       [ 25,  25,  26, ..., 158, 141, 168],\n",
      "       [ 25,  25,  27, ..., 151, 152, 149]], dtype=uint8) result=array([[200, 200, 200, ..., 189, 190, 190],\n",
      "       [200, 199, 199, ..., 190, 190, 190],\n",
      "       [199, 199, 199, ..., 190, 190, 190],\n",
      "       ...,\n",
      "       [ 25,  25,  27, ..., 139, 122, 147],\n",
      "       [ 25,  25,  26, ..., 158, 141, 168],\n",
      "       [ 25,  25,  27, ..., 151, 152, 149]], dtype=uint8)\n",
      "True\n",
      "image[ind]=200 result[ind]=200\n"
     ]
    }
   ],
   "source": [
    "image = pywt.data.camera()\n",
    "iwt = dwt.Iwt('haar', level=3)\n",
    "iwt.forward(image)\n",
    "result = iwt.inverse()\n",
    "cv2.imshow(\"original\", image)\n",
    "cv2.imshow(\"transformed\", result)\n",
    "\n",
    "diff = abs(image - result)\n",
    "\n",
    "ind = np.unravel_index(np.argmax(diff, axis=None), diff.shape)\n",
    "\n",
    "print(f\"{image=} {result=}\")\n",
    "print(f\"{np.allclose(image, result)}\")\n",
    "print(f\"{image[ind]=} {result[ind]=}\")\n",
    "\n",
    "cv2.waitKey(3000)\n",
    "cv2.destroyAllWindows()"
   ],
   "metadata": {
    "collapsed": false
   }
  },
  {
   "cell_type": "code",
   "execution_count": 4,
   "metadata": {
    "collapsed": true
   },
   "outputs": [
    {
     "name": "stdout",
     "output_type": "stream",
     "text": [
      "original=array([[200, 200, 200, ..., 189, 190, 190],\n",
      "       [200, 199, 199, ..., 190, 190, 190],\n",
      "       [199, 199, 199, ..., 190, 190, 190],\n",
      "       ...,\n",
      "       [ 25,  25,  27, ..., 139, 122, 147],\n",
      "       [ 25,  25,  26, ..., 158, 141, 168],\n",
      "       [ 25,  25,  27, ..., 151, 152, 149]], dtype=uint8) img=array([[200., 200., 200., ..., 189., 190., 190.],\n",
      "       [200., 199., 199., ..., 190., 190., 190.],\n",
      "       [199., 199., 199., ..., 190., 190., 190.],\n",
      "       ...,\n",
      "       [ 25.,  25.,  27., ..., 139., 122., 147.],\n",
      "       [ 25.,  25.,  26., ..., 158., 141., 168.],\n",
      "       [ 25.,  25.,  27., ..., 151., 152., 149.]])\n",
      "np.allclose(original, img)=True\n"
     ]
    }
   ],
   "source": [
    "c = pywt.dwt2(original, 'haar')\n",
    "img = pywt.idwt2(c, 'haar')\n",
    "print(f\"{original=} {img=}\")\n",
    "print(f\"{np.allclose(original, img)=}\")"
   ]
  },
  {
   "cell_type": "code",
   "execution_count": 5,
   "outputs": [
    {
     "name": "stdout",
     "output_type": "stream",
     "text": [
      "original=array([[200, 200, 200, ..., 189, 190, 190],\n",
      "       [200, 199, 199, ..., 190, 190, 190],\n",
      "       [199, 199, 199, ..., 190, 190, 190],\n",
      "       ...,\n",
      "       [ 25,  25,  27, ..., 139, 122, 147],\n",
      "       [ 25,  25,  26, ..., 158, 141, 168],\n",
      "       [ 25,  25,  27, ..., 151, 152, 149]], dtype=uint8) img=array([[200, 200, 200, ..., 189, 190, 190],\n",
      "       [200, 199, 199, ..., 190, 190, 190],\n",
      "       [199, 199, 199, ..., 190, 190, 190],\n",
      "       ...,\n",
      "       [ 25,  25,  27, ..., 139, 122, 147],\n",
      "       [ 25,  25,  26, ..., 158, 141, 168],\n",
      "       [ 25,  25,  27, ..., 151, 152, 149]], dtype=uint8)\n",
      "np.allclose(original, img)=True\n"
     ]
    }
   ],
   "source": [
    "iwt = dwt.Iwt('haar', level=3)\n",
    "original = pywt.data.camera()\n",
    "\n",
    "iwt.forward(original)\n",
    "img = iwt.inverse()\n",
    "print(f\"{original=} {img=}\")\n",
    "print(f\"{np.allclose(original, img)=}\")"
   ],
   "metadata": {
    "collapsed": false
   }
  },
  {
   "cell_type": "code",
   "execution_count": 6,
   "outputs": [
    {
     "name": "stdout",
     "output_type": "stream",
     "text": [
      "original=array([[200, 200, 200, ..., 189, 190, 190],\n",
      "       [200, 199, 199, ..., 190, 190, 190],\n",
      "       [199, 199, 199, ..., 190, 190, 190],\n",
      "       ...,\n",
      "       [ 25,  25,  27, ..., 139, 122, 147],\n",
      "       [ 25,  25,  26, ..., 158, 141, 168],\n",
      "       [ 25,  25,  27, ..., 151, 152, 149]], dtype=uint8) img=array([[200, 200, 200, ..., 189, 190, 190],\n",
      "       [200, 199, 199, ..., 190, 190, 190],\n",
      "       [199, 199, 199, ..., 190, 190, 190],\n",
      "       ...,\n",
      "       [ 25,  25,  27, ..., 139, 122, 147],\n",
      "       [ 25,  25,  26, ..., 158, 141, 168],\n",
      "       [ 25,  25,  27, ..., 151, 152, 149]], dtype=uint8)\n",
      "np.allclose(original, img)=True\n"
     ]
    }
   ],
   "source": [
    "import cv2\n",
    "\n",
    "cv2.imwrite(\"comp2.png\", original)\n",
    "img = cv2.imread(\"comp2.png\")\n",
    "img, g, b = cv2.split(img)\n",
    "print(f\"{original=} {img=}\")\n",
    "print(f\"{np.allclose(original, img)=}\")"
   ],
   "metadata": {
    "collapsed": false
   }
  },
  {
   "cell_type": "code",
   "execution_count": 7,
   "outputs": [
    {
     "name": "stdout",
     "output_type": "stream",
     "text": [
      "np.allclose(original, img)=True\n"
     ]
    }
   ],
   "source": [
    "from stego.transform import blocking, dwt\n",
    "original = pywt.data.camera()\n",
    "blocks = blocking.divide_image(original)\n",
    "img = blocking.stack_image(blocks)\n",
    "\n",
    "print(f\"{np.allclose(original, img)=}\")"
   ],
   "metadata": {
    "collapsed": false
   }
  },
  {
   "cell_type": "markdown",
   "source": [],
   "metadata": {
    "collapsed": false
   }
  },
  {
   "cell_type": "code",
   "execution_count": 8,
   "outputs": [
    {
     "name": "stdout",
     "output_type": "stream",
     "text": [
      "r='The module standardizes a core set of fast, memorygsfghffffffffffffdhfsg tools¥O°Q\\x9eöS¨%\\x05\\\\\\x99tw$\\x12I\\x17ö\\x85:\\x8füxX]Ñí\\x10\\x91xZI+¿òÜCÿ¥sÄ\\x10\\x81)5º&\\x85·g~\\x15Oü¢©¯q\\x18N\\x1bµ\\x16ñù¹\\x02¼Ðð\\x93TßEÁ\\x1cJ*É51\\r\\x7fÏ@£NÌ$åèÞHÕ/Ã\\x1dòæGå\\x85ò\\x94¾\\x01¨&\\x0cÃ\\x1d>ÿsâ%µ¿È\\x145FH¬Ylè\\x8bj\\x0c%åù'\n",
      "212\n",
      "corrected='The module standardizes a core set of fast, memory efficient tools'\n",
      "True\n"
     ]
    }
   ],
   "source": [
    "from stego import correction_codes\n",
    "msg = \"The module standardizes a core set of fast, memory efficient tools\"\n",
    "\n",
    "r = correction_codes.prepare_message(msg)\n",
    "r = r[:50] + \"gsfghffffffffffffdhfsg\" + r[60:]\n",
    "print(f'{r=}')\n",
    "print(len(r))\n",
    "corrected = correction_codes.decode_message(r)\n",
    "print(f'{corrected=}')\n",
    "print(f'{corrected==msg}')"
   ],
   "metadata": {
    "collapsed": false
   }
  },
  {
   "cell_type": "code",
   "execution_count": 8,
   "outputs": [],
   "source": [],
   "metadata": {
    "collapsed": false
   }
  }
 ],
 "metadata": {
  "kernelspec": {
   "display_name": "Python 3",
   "language": "python",
   "name": "python3"
  },
  "language_info": {
   "codemirror_mode": {
    "name": "ipython",
    "version": 2
   },
   "file_extension": ".py",
   "mimetype": "text/x-python",
   "name": "python",
   "nbconvert_exporter": "python",
   "pygments_lexer": "ipython2",
   "version": "2.7.6"
  }
 },
 "nbformat": 4,
 "nbformat_minor": 0
}
