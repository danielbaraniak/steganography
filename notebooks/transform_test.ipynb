{
 "cells": [
  {
   "cell_type": "code",
   "execution_count": null,
   "metadata": {
    "collapsed": false
   },
   "outputs": [],
   "source": [
    "import numpy as np\n",
    "import matplotlib.pyplot as plt\n",
    "\n",
    "import pywt\n",
    "import pywt.data\n",
    "import sys\n",
    "import cv2\n",
    "if '..' not in sys.path:\n",
    "    sys.path.append('..')\n",
    "\n",
    "from stego.transform import blocking, dwt\n"
   ]
  },
  {
   "cell_type": "code",
   "execution_count": null,
   "metadata": {
    "collapsed": false
   },
   "outputs": [],
   "source": [
    "original = pywt.data.camera()\n",
    "cv2.imwrite(\"comp.jpg\", original, [int(cv2.IMWRITE_JPEG_QUALITY), 80])\n",
    "img = cv2.imread(\"comp.jpg\")\n",
    "compressed, g, b = cv2.split(img)\n"
   ]
  },
  {
   "cell_type": "code",
   "execution_count": null,
   "metadata": {},
   "outputs": [],
   "source": [
    "def get_diffs(original, modified, transform):\n",
    "    o_coeffs = transform.forward(original)\n",
    "    m_coeffs = transform.forward(modified)\n",
    "\n",
    "    diffs = []\n",
    "\n",
    "    for o, m in zip(o_coeffs[1:], m_coeffs[1:]):\n",
    "        level = []\n",
    "        for i in range(3):\n",
    "            level.append(o[i] - m[i])\n",
    "        diffs.append(level)\n",
    "    return diffs\n",
    "\n",
    "def plot_normal_distribution(data, ax):\n",
    "    # Compute the mean and standard deviation of the data\n",
    "    mean = np.mean(data)\n",
    "    std = np.std(data)\n",
    "\n",
    "    # Create a histogram of the data\n",
    "    ax.hist(data, bins=50, density=True)\n",
    "\n",
    "    # Add vertical lines to indicate one and two standard deviations from the mean\n",
    "    ax.axvline(mean - std, linestyle='dashed', color='red')\n",
    "    ax.axvline(mean + std, linestyle='dashed', color='red')\n",
    "    ax.axvline(mean - 2 * std, linestyle='dashed', color='orange')\n",
    "    ax.axvline(mean + 2 * std, linestyle='dashed', color='orange')\n",
    "\n",
    "    # Add text labels next to the vertical lines\n",
    "    ax.text(mean - std, 0.2, f\"{mean - std:.1f}\", rotation=90, color='red')\n",
    "    ax.text(mean + std, 0.2, f\"{mean + std:.1f}\", rotation=90, color='red')\n",
    "    ax.text(mean - 2 * std, 0.2, f\"{mean - 2 * std:.1f}\", rotation=90, color='orange')\n",
    "    ax.text(mean + 2 * std, 0.2, f\"{mean + 2 * std:.1f}\", rotation=90, color='orange')\n",
    "\n",
    "    ax.set_xlabel(\"Value difference\")\n",
    "    ax.set_ylabel(\"Probability Density\")"
   ]
  },
  {
   "cell_type": "code",
   "execution_count": null,
   "metadata": {},
   "outputs": [],
   "source": [
    "\n",
    "diffs = get_diffs(original, compressed, dwt.Iwt('haar', level=5, scale=1))\n",
    "\n",
    "fig, axs = plt.subplots(len(diffs)-1, 3, figsize=(10, 10))\n",
    "\n",
    "for i, level in enumerate(diffs[1:]):\n",
    "    for j, (band, band_name) in enumerate(zip(level,[\"lh\", \"hl\", \"hh\"])):\n",
    "        plot_normal_distribution(band.ravel(), axs[i, j])\n",
    "        axs[i, j].set_title(f\"Level {i+1}-{band_name}\")\n",
    "        \n",
    "\n",
    "fig.tight_layout()\n",
    "# Show the plot\n",
    "plt.show()\n"
   ]
  }
 ],
 "metadata": {
  "kernelspec": {
   "display_name": "venv",
   "language": "python",
   "name": "python3"
  },
  "language_info": {
   "codemirror_mode": {
    "name": "ipython",
    "version": 3
   },
   "file_extension": ".py",
   "mimetype": "text/x-python",
   "name": "python",
   "nbconvert_exporter": "python",
   "pygments_lexer": "ipython3",
   "version": "3.11.0"
  },
  "vscode": {
   "interpreter": {
    "hash": "1fc619c7385cd2c7e6182cfecdf73ea0a0dcbca9406975099e765fead7275792"
   }
  }
 },
 "nbformat": 4,
 "nbformat_minor": 0
}
