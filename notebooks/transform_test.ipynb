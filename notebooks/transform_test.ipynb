{
 "cells": [
  {
   "cell_type": "code",
   "execution_count": 7,
   "outputs": [],
   "source": [
    "import numpy as np\n",
    "import matplotlib.pyplot as plt\n",
    "\n",
    "import pywt\n",
    "import pywt.data\n",
    "import sys\n",
    "\n",
    "if '..' not in sys.path:\n",
    "    sys.path.append('..')\n",
    "\n",
    "from stego.transform import blocking, dwt"
   ],
   "metadata": {
    "collapsed": false
   }
  },
  {
   "cell_type": "code",
   "execution_count": 8,
   "outputs": [],
   "source": [
    "original = pywt.data.camera()"
   ],
   "metadata": {
    "collapsed": false
   }
  },
  {
   "cell_type": "code",
   "execution_count": 9,
   "metadata": {
    "collapsed": true
   },
   "outputs": [
    {
     "name": "stdout",
     "output_type": "stream",
     "text": [
      "original=array([[200, 200, 200, ..., 189, 190, 190],\n",
      "       [200, 199, 199, ..., 190, 190, 190],\n",
      "       [199, 199, 199, ..., 190, 190, 190],\n",
      "       ...,\n",
      "       [ 25,  25,  27, ..., 139, 122, 147],\n",
      "       [ 25,  25,  26, ..., 158, 141, 168],\n",
      "       [ 25,  25,  27, ..., 151, 152, 149]], dtype=uint8) img=array([[200., 200., 200., ..., 189., 190., 190.],\n",
      "       [200., 199., 199., ..., 190., 190., 190.],\n",
      "       [199., 199., 199., ..., 190., 190., 190.],\n",
      "       ...,\n",
      "       [ 25.,  25.,  27., ..., 139., 122., 147.],\n",
      "       [ 25.,  25.,  26., ..., 158., 141., 168.],\n",
      "       [ 25.,  25.,  27., ..., 151., 152., 149.]])\n",
      "np.allclose(original, img)=True\n"
     ]
    }
   ],
   "source": [
    "c = pywt.dwt2(original, 'haar')\n",
    "img = pywt.idwt2(c, 'haar')\n",
    "print(f\"{original=} {img=}\")\n",
    "print(f\"{np.allclose(original, img)=}\")"
   ]
  },
  {
   "cell_type": "code",
   "execution_count": 10,
   "outputs": [
    {
     "name": "stdout",
     "output_type": "stream",
     "text": [
      "original=array([[200, 200, 200, ..., 189, 190, 190],\n",
      "       [200, 199, 199, ..., 190, 190, 190],\n",
      "       [199, 199, 199, ..., 190, 190, 190],\n",
      "       ...,\n",
      "       [ 25,  25,  27, ..., 139, 122, 147],\n",
      "       [ 25,  25,  26, ..., 158, 141, 168],\n",
      "       [ 25,  25,  27, ..., 151, 152, 149]], dtype=uint8) img=array([[200., 200., 200., ..., 189., 190., 190.],\n",
      "       [200., 199., 199., ..., 190., 190., 190.],\n",
      "       [199., 199., 199., ..., 190., 190., 190.],\n",
      "       ...,\n",
      "       [ 25.,  25.,  27., ..., 139., 122., 147.],\n",
      "       [ 25.,  25.,  26., ..., 158., 141., 168.],\n",
      "       [ 25.,  25.,  27., ..., 151., 152., 149.]])\n",
      "np.allclose(original, img)=True\n"
     ]
    }
   ],
   "source": [
    "iwt = dwt.Iwt('haar', level=3)\n",
    "original = pywt.data.camera()\n",
    "\n",
    "iwt.forward(original)\n",
    "img = iwt.inverse()\n",
    "print(f\"{original=} {img=}\")\n",
    "print(f\"{np.allclose(original, img)=}\")"
   ],
   "metadata": {
    "collapsed": false
   }
  },
  {
   "cell_type": "code",
   "execution_count": 11,
   "outputs": [
    {
     "name": "stdout",
     "output_type": "stream",
     "text": [
      "original=array([[200, 200, 200, ..., 189, 190, 190],\n",
      "       [200, 199, 199, ..., 190, 190, 190],\n",
      "       [199, 199, 199, ..., 190, 190, 190],\n",
      "       ...,\n",
      "       [ 25,  25,  27, ..., 139, 122, 147],\n",
      "       [ 25,  25,  26, ..., 158, 141, 168],\n",
      "       [ 25,  25,  27, ..., 151, 152, 149]], dtype=uint8) img=array([[200, 200, 200, ..., 189, 190, 190],\n",
      "       [200, 199, 199, ..., 190, 190, 190],\n",
      "       [199, 199, 199, ..., 190, 190, 190],\n",
      "       ...,\n",
      "       [ 25,  25,  27, ..., 139, 122, 147],\n",
      "       [ 25,  25,  26, ..., 158, 141, 168],\n",
      "       [ 25,  25,  27, ..., 151, 152, 149]], dtype=uint8)\n",
      "np.allclose(original, img)=True\n"
     ]
    }
   ],
   "source": [
    "import cv2\n",
    "\n",
    "cv2.imwrite(\"comp2.png\", original)\n",
    "img = cv2.imread(\"comp2.png\")\n",
    "img, g, b = cv2.split(img)\n",
    "print(f\"{original=} {img=}\")\n",
    "print(f\"{np.allclose(original, img)=}\")"
   ],
   "metadata": {
    "collapsed": false
   }
  },
  {
   "cell_type": "code",
   "execution_count": 12,
   "outputs": [
    {
     "name": "stdout",
     "output_type": "stream",
     "text": [
      "np.allclose(original, img)=True\n"
     ]
    }
   ],
   "source": [
    "from stego.transform import blocking, dwt\n",
    "original = pywt.data.camera()\n",
    "blocks = blocking.divide_image(original)\n",
    "img = blocking.stack_image(blocks)\n",
    "\n",
    "print(f\"{np.allclose(original, img)=}\")"
   ],
   "metadata": {
    "collapsed": false
   }
  },
  {
   "cell_type": "code",
   "execution_count": 12,
   "outputs": [],
   "source": [],
   "metadata": {
    "collapsed": false
   }
  }
 ],
 "metadata": {
  "kernelspec": {
   "display_name": "Python 3",
   "language": "python",
   "name": "python3"
  },
  "language_info": {
   "codemirror_mode": {
    "name": "ipython",
    "version": 2
   },
   "file_extension": ".py",
   "mimetype": "text/x-python",
   "name": "python",
   "nbconvert_exporter": "python",
   "pygments_lexer": "ipython2",
   "version": "2.7.6"
  }
 },
 "nbformat": 4,
 "nbformat_minor": 0
}
