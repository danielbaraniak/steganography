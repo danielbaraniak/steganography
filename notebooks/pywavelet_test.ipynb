{
 "cells": [
  {
   "cell_type": "code",
   "execution_count": null,
   "metadata": {},
   "outputs": [],
   "source": [
    "import numpy as np\n",
    "import matplotlib.pyplot as plt\n",
    "\n",
    "import pywt\n",
    "import pywt.data\n",
    "import sys\n",
    "import cv2"
   ]
  },
  {
   "cell_type": "code",
   "execution_count": null,
   "metadata": {},
   "outputs": [],
   "source": [
    "# Load image\n",
    "original = pywt.data.camera()\n",
    "\n",
    "# Wavelet transform of image, and plot approximation and details\n",
    "titles = ['Approximation', ' Horizontal detail',\n",
    "          'Vertical detail', 'Diagonal detail']\n",
    "coeffs2 = pywt.dwt2(original, 'bior1.3')\n",
    "LL, (LH2, HL, HH) = coeffs2\n",
    "fig = plt.figure(figsize=(12, 3))\n",
    "for i, a in enumerate([LL, LH2, HL, HH]):\n",
    "    ax = fig.add_subplot(1, 4, i + 1)\n",
    "    ax.imshow(a, interpolation=\"nearest\", cmap=plt.cm.gray)\n",
    "    ax.set_title(titles[i], fontsize=10)\n",
    "    ax.set_xticks([])\n",
    "    ax.set_yticks([])\n",
    "\n",
    "fig.tight_layout()\n",
    "plt.show()"
   ]
  },
  {
   "cell_type": "markdown",
   "metadata": {},
   "source": [
    "In proposed MDLE-IWT method, \n",
    "1. IWT is first appliedto the cover image to obtain four wavelet coefficient sub-bands asembedding regions.\n",
    "1. The embedding sub-bands order in the algorithm is HL, LH, HH, and LL. \n",
    "1. Next, the embedding sub-band is divided into 3×3 non-overlapping blocks\n",
    "1. MDLE scheme is applied to each block\n"
   ]
  },
  {
   "cell_type": "code",
   "execution_count": null,
   "metadata": {},
   "outputs": [],
   "source": [
    "original.shape"
   ]
  },
  {
   "cell_type": "code",
   "execution_count": null,
   "metadata": {},
   "outputs": [],
   "source": [
    "if '..' not in sys.path:\n",
    "    sys.path.append('..')\n",
    "    \n",
    "from stego.transform import blocking"
   ]
  },
  {
   "cell_type": "code",
   "execution_count": null,
   "metadata": {},
   "outputs": [],
   "source": [
    "coeffs_order = [(0,0),(0,1),(0,2),(1,2),(2,2),(2,1),(2,0),(1,0)]\n",
    "def is_edge_block(block, T=4):\n",
    "    U = []\n",
    "    center = block[1,1]\n",
    "    for idx in coeffs_order:\n",
    "        di = abs(center-block[idx])\n",
    "        U.append(di)\n",
    "        # print(f'{block[idx]=}')\n",
    "    V = max(U)/4\n",
    "    C = 0\n",
    "    for g in U:\n",
    "        if g >= V:\n",
    "            C += 1\n",
    "    return C > T\n",
    "\n",
    "def extraction_function(pi, pc):\n",
    "    return (pi + pc) % 4\n",
    "\n",
    "def lcv(S, f):\n",
    "    return (S - f) % 4\n",
    "\n",
    "lcv_to_mv = [0, 1, 2, -1]\n",
    "\n",
    "def byte_to_dec_array(byte):\n",
    "    result = [None,None,None, None]\n",
    "    result[0] = (byte & 0b11000000) >> 6\n",
    "    result[1] = (byte & 0b00110000) >> 4\n",
    "    result[2] = (byte & 0b00001100) >> 2\n",
    "    result[3] = (byte & 0b00000011)\n",
    "\n",
    "    return result\n",
    "\n",
    "def dec_array_to_byte(encoded_data):\n",
    "    result = 0\n",
    "    result |= int(encoded_data[0]) << 6\n",
    "    result |= int(encoded_data[1]) << 4\n",
    "    result |= int(encoded_data[2]) << 2\n",
    "    result |= int(encoded_data[3])\n",
    "    \n",
    "    return result\n",
    "\n",
    "\n",
    "def embed(block, decimal_data: np.ndarray):\n",
    "    center_coeff = block[1,1]\n",
    "    perimiter_coeffs = np.array([block[idx] for idx in coeffs_order])\n",
    "    lcvs = lcv(decimal_data, extraction_function(perimiter_coeffs, center_coeff))\n",
    "    mvs = [lcv_to_mv[int(lcv)] for lcv in lcvs]\n",
    "\n",
    "    for idx, mv in zip(coeffs_order, mvs):\n",
    "        block[idx] += mv\n",
    "\n",
    "    return block\n",
    "\n",
    "def extract(block):\n",
    "    center_coeff = block[1,1]\n",
    "    perimiter_coeffs = np.array([block[idx] for idx in coeffs_order])\n",
    "    return extraction_function(perimiter_coeffs, center_coeff)"
   ]
  },
  {
   "cell_type": "code",
   "execution_count": null,
   "metadata": {},
   "outputs": [],
   "source": [
    "secret_message = \"Secret message to be saved\"\n",
    "byte_message = bytes(secret_message, 'utf-8')\n",
    "n2 = []\n",
    "for b in byte_message:\n",
    "    n2.extend(byte_to_dec_array(b))"
   ]
  },
  {
   "cell_type": "code",
   "execution_count": null,
   "metadata": {},
   "outputs": [],
   "source": [
    "original = blocking.pad_image(original, 5)"
   ]
  },
  {
   "cell_type": "code",
   "execution_count": null,
   "metadata": {},
   "outputs": [],
   "source": [
    "coeffs2 = pywt.dwt2(original, 'haar')\n",
    "LL, (LH, HL, HH) = coeffs2\n",
    "detail_coefficients: list[np.ndarray] = [HL, LH2, HH]"
   ]
  },
  {
   "cell_type": "code",
   "execution_count": null,
   "metadata": {},
   "outputs": [],
   "source": [
    "for i, c in enumerate(detail_coefficients):\n",
    "    print(c.shape)\n",
    "    detail_coefficients[i] = np.rint(c*2)"
   ]
  },
  {
   "cell_type": "code",
   "execution_count": null,
   "metadata": {},
   "outputs": [],
   "source": [
    "detail_coefficients_blocks = [blocking.divide_image(coeff, block_size=3) for coeff in detail_coefficients]"
   ]
  },
  {
   "cell_type": "code",
   "execution_count": null,
   "metadata": {},
   "outputs": [],
   "source": [
    "secret_message = \"Secret message to be saved\"\n",
    "byte_message = bytes(secret_message, 'utf-8')\n",
    "n2 = []\n",
    "for b in byte_message:\n",
    "    n2.extend(byte_to_dec_array(b))"
   ]
  },
  {
   "cell_type": "code",
   "execution_count": null,
   "metadata": {},
   "outputs": [],
   "source": [
    "\n",
    "for i, band in enumerate(detail_coefficients_blocks):\n",
    "    for j, row in enumerate(band):\n",
    "        for k, block in enumerate(row):\n",
    "            if len(n2) <= 8:\n",
    "                decimal_data = [0,0,0,0,0,0,0,0]\n",
    "                decimal_data = n2 + decimal_data[len(n2):]\n",
    "                detail_coefficients_blocks[i][j][k] = embed(block, decimal_data)\n",
    "                break\n",
    "            decimal_data = np.array(n2[:8])\n",
    "            n2 = n2[8:]\n",
    "            print(decimal_data)\n",
    "            detail_coefficients_blocks[i][j][k] = embed(block, decimal_data)\n",
    "            "
   ]
  },
  {
   "cell_type": "code",
   "execution_count": null,
   "metadata": {},
   "outputs": [],
   "source": [
    "for i, band in enumerate(detail_coefficients_blocks):\n",
    "    detail_coefficients[i] = blocking.stack_image(band)/2\n",
    "\n",
    "coeffs = detail_coefficients[1], detail_coefficients[0], detail_coefficients[2]\n",
    "\n",
    "\n",
    "stego_img = pywt.idwt2((LL, coeffs), 'haar')\n",
    "stego_img.shape"
   ]
  },
  {
   "cell_type": "code",
   "execution_count": null,
   "metadata": {},
   "outputs": [],
   "source": [
    "\n",
    "# plt.imshow(stego_img, interpolation=\"nearest\", cmap=plt.cm.gray)\n",
    "# cv2.imwrite(\"comp.jpg\", stego_img, [int(cv2.IMWRITE_JPEG_QUALITY), 100]) \n",
    "# img = cv2.imread(\"comp.jpg\")\n",
    "# stego_img, g, b = cv2.split(img)\n",
    "# stego_img.shape"
   ]
  },
  {
   "cell_type": "code",
   "execution_count": null,
   "metadata": {},
   "outputs": [],
   "source": [
    "# extract\n",
    "\n",
    "coeffs2 = pywt.dwt2(stego_img, 'haar')\n",
    "LL, (LH, HL, HH) = coeffs2\n",
    "detail_coefficients: list[np.ndarray] = [HL, LH, HH]\n",
    "\n",
    "for i, c in enumerate(detail_coefficients):\n",
    "    print(c.shape)\n",
    "    detail_coefficients[i] = np.rint(c*2)\n",
    "\n",
    "detail_coefficients_blocks = [blocking.divide_image(coeff, block_size=3) for coeff in detail_coefficients]\n"
   ]
  },
  {
   "cell_type": "code",
   "execution_count": null,
   "metadata": {},
   "outputs": [],
   "source": [
    "encoded_data = []\n",
    "for i, band in enumerate(detail_coefficients_blocks):\n",
    "    for j, row in enumerate(band):\n",
    "        for k, block in enumerate(row):\n",
    "            encoded_data.extend(extract(block))\n",
    "encoded_data = [int(i) for i in encoded_data]"
   ]
  },
  {
   "cell_type": "code",
   "execution_count": null,
   "metadata": {},
   "outputs": [],
   "source": [
    "chunks = [encoded_data[x:x+4] for x in range(0, len(encoded_data), 4)]"
   ]
  },
  {
   "cell_type": "code",
   "execution_count": null,
   "metadata": {},
   "outputs": [],
   "source": [
    "dec_list = []\n",
    "for chunk in chunks:\n",
    "    dec_list.append(dec_array_to_byte(chunk))"
   ]
  },
  {
   "cell_type": "code",
   "execution_count": null,
   "metadata": {},
   "outputs": [],
   "source": [
    "bytes(dec_list)[:50]"
   ]
  }
 ],
 "metadata": {
  "kernelspec": {
   "display_name": "Python 3.10.8",
   "language": "python",
   "name": "python3"
  },
  "language_info": {
   "codemirror_mode": {
    "name": "ipython",
    "version": 3
   },
   "file_extension": ".py",
   "mimetype": "text/x-python",
   "name": "python",
   "nbconvert_exporter": "python",
   "pygments_lexer": "ipython3",
   "version": "3.10.8"
  },
  "orig_nbformat": 4,
  "vscode": {
   "interpreter": {
    "hash": "97cc609b13305c559618ec78a438abc56230b9381f827f22d070313b9a1f3777"
   }
  }
 },
 "nbformat": 4,
 "nbformat_minor": 2
}
