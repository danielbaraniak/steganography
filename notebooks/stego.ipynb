{
 "cells": [
  {
   "cell_type": "code",
   "execution_count": null,
   "metadata": {},
   "outputs": [],
   "source": [
    "import numpy as np\n",
    "import matplotlib.pyplot as plt\n",
    "\n",
    "import pywt.data\n",
    "import sys\n",
    "import cv2\n",
    "\n",
    "if '..' not in sys.path:\n",
    "    sys.path.append('..')"
   ]
  },
  {
   "cell_type": "markdown",
   "metadata": {},
   "source": [
    "In proposed MDLE-IWT method, \n",
    "1. IWT is first appliedto the cover image to obtain four wavelet coefficient sub-bands asembedding regions.\n",
    "1. The embedding sub-bands order in the algorithm is HL, LH, HH, and LL. \n",
    "1. Next, the embedding sub-band is divided into 3×3 non-overlapping blocks\n",
    "1. MDLE scheme is applied to each block\n"
   ]
  },
  {
   "cell_type": "code",
   "execution_count": null,
   "metadata": {
    "collapsed": false
   },
   "outputs": [],
   "source": [
    "from itertools import chain, repeat, cycle\n",
    "from stego import codec\n",
    "from stego.message import message_to_dec, dec_to_message\n",
    "from stego.transform.dwt import Iwt\n",
    "from stego.image_coder import StegoCoder\n",
    "import unireedsolomon as rs"
   ]
  },
  {
   "cell_type": "markdown",
   "metadata": {
    "collapsed": false
   },
   "source": [
    "## Encoding"
   ]
  },
  {
   "cell_type": "code",
   "execution_count": null,
   "metadata": {},
   "outputs": [],
   "source": [
    "from stego import correction_codes, image_coder\n",
    "\n",
    "secret_message = \"Functions creating iterators for efficient looping\"\n",
    "original = pywt.data.camera()\n",
    "stego_coder = StegoCoder(Iwt('haar', level=3, scale=1), len(secret_message))"
   ]
  },
  {
   "cell_type": "code",
   "execution_count": null,
   "metadata": {},
   "outputs": [],
   "source": [
    "stego_img = stego_coder.encode(original, secret_message)"
   ]
  },
  {
   "cell_type": "markdown",
   "metadata": {
    "collapsed": false
   },
   "source": [
    "## Stego Image"
   ]
  },
  {
   "cell_type": "code",
   "execution_count": null,
   "metadata": {},
   "outputs": [],
   "source": [
    "plt.imshow(stego_img, interpolation=\"nearest\", cmap=plt.cm.gray)\n",
    "cv2.imwrite(\"comp.png\", stego_img)\n",
    "img = cv2.imread(\"comp.png\")\n",
    "stego_from_file, g, b = cv2.split(img)\n",
    "print(f\"{np.allclose(stego_img, stego_from_file)=}\")\n",
    "stego_img = stego_from_file\n",
    "plt.imshow(stego_img, interpolation=\"nearest\", cmap=plt.cm.gray)\n",
    "stego_img.shape\n"
   ]
  },
  {
   "cell_type": "markdown",
   "metadata": {
    "collapsed": false
   },
   "source": [
    "## Extracting"
   ]
  },
  {
   "cell_type": "code",
   "execution_count": null,
   "metadata": {
    "collapsed": false
   },
   "outputs": [],
   "source": [
    "message = stego_coder.decode(stego_img)\n",
    "message"
   ]
  },
  {
   "attachments": {},
   "cell_type": "markdown",
   "metadata": {},
   "source": [
    "## Przeanalizowanie obrazka testowego oraz wyników przekształcenia na poziomie 3 pod kątem różnicy pomiędzy pikselami w obszarze 3x3"
   ]
  },
  {
   "cell_type": "code",
   "execution_count": null,
   "metadata": {
    "collapsed": false
   },
   "outputs": [],
   "source": [
    "from stego.transform.blocking import CropBlocker\n",
    "\n",
    "original_blocking = CropBlocker(original)\n",
    "stego_blocking = CropBlocker(stego_img)"
   ]
  },
  {
   "cell_type": "code",
   "execution_count": null,
   "metadata": {
    "collapsed": false
   },
   "outputs": [],
   "source": [
    "original_blocks = original_blocking.divide(block_size=3)\n",
    "stego_blocks = stego_blocking.divide(block_size=3)"
   ]
  },
  {
   "cell_type": "code",
   "execution_count": null,
   "metadata": {
    "collapsed": false
   },
   "outputs": [],
   "source": [
    "for j, row in enumerate(original_blocks):\n",
    "    for k, block in enumerate(row):\n",
    "        s = np.std(block)\n",
    "        original_blocks[j][k] = (block * 0) + s\n",
    "\n",
    "orginal_std = original_blocking.stack(original_blocks)\n"
   ]
  },
  {
   "cell_type": "code",
   "execution_count": null,
   "metadata": {
    "collapsed": false
   },
   "outputs": [],
   "source": [
    "for j, row in enumerate(stego_blocks):\n",
    "    for k, block in enumerate(row):\n",
    "        s = np.std(block)\n",
    "        stego_blocks[j][k] = (block * 0) + s\n",
    "\n",
    "stego_std = stego_blocking.stack(stego_blocks)"
   ]
  },
  {
   "cell_type": "code",
   "execution_count": null,
   "metadata": {
    "collapsed": false
   },
   "outputs": [],
   "source": [
    "fig = plt.figure(figsize=(15, 5))\n",
    "for i, a in enumerate([orginal_std, stego_std]):\n",
    "    ax = fig.add_subplot(1, 4, i + 1)\n",
    "    ax.imshow(a, cmap=plt.cm.gray)\n",
    "    ax = fig.add_subplot(1, 4, i + 3)\n",
    "    ax.hist(a)\n",
    "\n",
    "fig.tight_layout()\n",
    "plt.show()"
   ]
  }
 ],
 "metadata": {
  "kernelspec": {
   "display_name": "venv",
   "language": "python",
   "name": "python3"
  },
  "language_info": {
   "codemirror_mode": {
    "name": "ipython",
    "version": 3
   },
   "file_extension": ".py",
   "mimetype": "text/x-python",
   "name": "python",
   "nbconvert_exporter": "python",
   "pygments_lexer": "ipython3",
   "version": "3.11.0 (main, Oct 24 2022, 00:00:00) [GCC 12.2.1 20220819 (Red Hat 12.2.1-2)]"
  },
  "orig_nbformat": 4,
  "vscode": {
   "interpreter": {
    "hash": "1fc619c7385cd2c7e6182cfecdf73ea0a0dcbca9406975099e765fead7275792"
   }
  }
 },
 "nbformat": 4,
 "nbformat_minor": 2
}
